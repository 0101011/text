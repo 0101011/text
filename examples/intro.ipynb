{
  "nbformat": 4,
  "nbformat_minor": 0,
  "metadata": {
    "colab": {
      "name": "Intro_to_TF_Text.ipynb",
      "version": "0.3.2",
      "provenance": [],
      "collapsed_sections": [],
      "last_runtime": {
        "build_target": "//experimental/socrates:notebook",
        "kind": "private"
      },
      "toc_visible": true
    },
    "kernelspec": {
      "name": "python2",
      "display_name": "Python 2"
    }
  },
  "cells": [
    {
      "cell_type": "markdown",
      "metadata": {
        "id": "wzY3w4DFMwJx",
        "colab_type": "text"
      },
      "source": [
        "##### Copyright 2018 The TensorFlow Authors.\n",
        "\n",
        "Licensed under the Apache License, Version 2.0 (the \"License\");"
      ]
    },
    {
      "cell_type": "code",
      "metadata": {
        "id": "rAl-m3CJM9f2",
        "colab_type": "code",
        "colab": {}
      },
      "source": [
        "#@title Licensed under the Apache License, Version 2.0 (the \"License\"); { display-mode: \"form\" }\n",
        "# you may not use this file except in compliance with the License.\n",
        "# You may obtain a copy of the License at\n",
        "#\n",
        "# https://www.apache.org/licenses/LICENSE-2.0\n",
        "#\n",
        "# Unless required by applicable law or agreed to in writing, software\n",
        "# distributed under the License is distributed on an \"AS IS\" BASIS,\n",
        "# WITHOUT WARRANTIES OR CONDITIONS OF ANY KIND, either express or implied.\n",
        "# See the License for the specific language governing permissions and\n",
        "# limitations under the License."
      ],
      "execution_count": 0,
      "outputs": []
    },
    {
      "cell_type": "markdown",
      "metadata": {
        "id": "bkDse1F8QfLC",
        "colab_type": "text"
      },
      "source": [
        "# TF.Text\n",
        "\n",
        "## Introduction\n",
        "\n",
        "TensorFlow Text provides a collection of text related classes and ops ready to use with TensorFlow. The library can perform the preprocessing regularly required by text-based models, and includes other features useful for sequence modeling not provided by core TensorFlow.\n",
        "\n",
        "The benefit of using these ops in your text preprocessing is that they are done in the TensorFlow graph. You do not need to worry about tokenization in training being different than the tokenization at inference, or managing preprocessing scripts."
      ]
    },
    {
      "cell_type": "markdown",
      "metadata": {
        "id": "5vzUaGC_QimJ",
        "colab_type": "text"
      },
      "source": [
        "## Eager Execution\n",
        "\n",
        "TensorFlow Text is compatible with both TensorFlow eager mode and graph mode.\n"
      ]
    },
    {
      "cell_type": "code",
      "metadata": {
        "id": "MjeiCYH2HgLG",
        "colab_type": "code",
        "colab": {}
      },
      "source": [
        "import tensorflow as tf\n",
        "import tensorflow_text as text\n",
        "tf.enable_eager_execution()"
      ],
      "execution_count": 0,
      "outputs": []
    },
    {
      "cell_type": "markdown",
      "metadata": {
        "id": "zBz-AF1lQwO0",
        "colab_type": "text"
      },
      "source": [
        "## Unicode\n",
        "\n",
        "Most ops expect that the strings are in UTF-8. If your using a different encoding, you can use the core tensorflow transcode op to transcode into UTF-8. You can also use the same op to coerce your string to structurally valid UTF-8 if your input could be invalid.\n"
      ]
    },
    {
      "cell_type": "code",
      "metadata": {
        "id": "mup7OvnUQyrk",
        "colab_type": "code",
        "colab": {}
      },
      "source": [
        "docs = tf.constant([u'Everything not saved will be lost.'.encode('UTF-16-BE'), u'Sad☹'.encode('UTF-16-BE')])\n",
        "utf8_docs = tf.strings.unicode_transcode(docs, input_encoding='UTF-16-BE', output_encoding='UTF-8')"
      ],
      "execution_count": 0,
      "outputs": []
    },
    {
      "cell_type": "markdown",
      "metadata": {
        "id": "JhF9xiL4RdGZ",
        "colab_type": "text"
      },
      "source": [
        "## Tokenization\n",
        "\n",
        "Tokenization is the process of breaking up a string into tokens. Commonly, these tokens are words, numbers, and/or punctuation.\n",
        "\n",
        "The main interfaces are `Tokenizer` and `TokenizerWithOffsets` which each have a single method `tokenize` and `tokenizeWithOffsets` respectively. There are multiple implementing tokenizers available now. Each of these implement `TokenizerWithOffsets` (which extends `Tokenizer`) which includes an option for getting byte offsets into the original string. This allows the caller to know the bytes in the original string the token was created from.\n",
        "\n",
        "All of the tokenizers return RaggedTensors with the inner-most dimension of tokens mapping to the original individual strings. As a result, the resulting shape's rank is increased by one. Please review the ragged tensor guide if you are unfamiliar with them. https://www.tensorflow.org/guide/ragged_tensors\n",
        "\n",
        "### WhitespaceTokenizer\n",
        "\n",
        "This is a basic tokenizer that splits UTF-8 strings on ICU defined whitespace characters (eg. space, tab, new line).\n",
        "\n"
      ]
    },
    {
      "cell_type": "code",
      "metadata": {
        "id": "pj6QRMJ_RbTf",
        "colab_type": "code",
        "outputId": "4d4e29a9-95d9-47cd-df58-cb8bf0d97d8a",
        "executionInfo": {
          "status": "ok",
          "timestamp": 1559154874453,
          "user_tz": 420,
          "elapsed": 541,
          "user": {
            "displayName": "Robby Neale",
            "photoUrl": "https://lh6.googleusercontent.com/-n6E9g9Qd1Os/AAAAAAAAAAI/AAAAAAAAGJY/OFLy4Jq1f7Q/s64/photo.jpg",
            "userId": "00297544628551669101"
          }
        },
        "colab": {
          "height": 34
        }
      },
      "source": [
        "tokenizer = text.WhitespaceTokenizer()\n",
        "tokens = tokenizer.tokenize(['everything not saved will be lost.', u'Sad☹'.encode('UTF-8')])\n",
        "print(tokens.to_list())"
      ],
      "execution_count": 0,
      "outputs": [
        {
          "output_type": "stream",
          "text": [
            "[['everything', 'not', 'saved', 'will', 'be', 'lost.'], ['Sad\\xe2\\x98\\xb9']]\n"
          ],
          "name": "stdout"
        }
      ]
    },
    {
      "cell_type": "markdown",
      "metadata": {
        "id": "bTuPjpyrGwKK",
        "colab_type": "text"
      },
      "source": [
        "### UnicodeScriptTokenizer\n",
        "\n",
        "This tokenizer splits UTF-8 strings based on Unicode script boundaries. The script codes used correspond to International Components for Unicode (ICU) UScriptCode values. See: http://icu-project.org/apiref/icu4c/uscript_8h.html\n",
        "\n",
        "In practice, this is similar to the `WhitespaceTokenizer` with the most apparent difference being that it will split punctuation (USCRIPT_COMMON) from language texts (eg. USCRIPT_LATIN, USCRIPT_CYRILLIC, etc) while also separating language texts from each other."
      ]
    },
    {
      "cell_type": "code",
      "metadata": {
        "id": "QIAu7D7JG6xC",
        "colab_type": "code",
        "outputId": "2b9b39f1-0b6e-4fd2-ee52-4baeccb503b3",
        "executionInfo": {
          "status": "ok",
          "timestamp": 1559150607810,
          "user_tz": 420,
          "elapsed": 395,
          "user": {
            "displayName": "Robby Neale",
            "photoUrl": "https://lh6.googleusercontent.com/-n6E9g9Qd1Os/AAAAAAAAAAI/AAAAAAAAGJY/OFLy4Jq1f7Q/s64/photo.jpg",
            "userId": "00297544628551669101"
          }
        },
        "colab": {
          "height": 34
        }
      },
      "source": [
        "tokenizer = text.UnicodeScriptTokenizer()\n",
        "tokens = tokenizer.tokenize(['everything not saved will be lost.', u'Sad☹'.encode('UTF-8')])\n",
        "print(tokens.to_list())"
      ],
      "execution_count": 0,
      "outputs": [
        {
          "output_type": "stream",
          "text": [
            "[['everything', 'not', 'saved', 'will', 'be', 'lost', '.'], ['Sad', '\\xe2\\x98\\xb9']]\n"
          ],
          "name": "stdout"
        }
      ]
    },
    {
      "cell_type": "markdown",
      "metadata": {
        "id": "Lzuqb8xkG7Cp",
        "colab_type": "text"
      },
      "source": [
        "### Unicode split\n",
        "\n",
        "When tokenizing languages without whitespace to segment words, it is common to just split by character, which can be accomplished using the [unicode_split](https://www.tensorflow.org/api_docs/python/tf/strings/unicode_split) op found in core."
      ]
    },
    {
      "cell_type": "code",
      "metadata": {
        "id": "GCKTl2mzdZIo",
        "colab_type": "code",
        "outputId": "9507e24b-2161-4b9b-e73a-48c976b846b6",
        "executionInfo": {
          "status": "ok",
          "timestamp": 1559071323167,
          "user_tz": 420,
          "elapsed": 478,
          "user": {
            "displayName": "Robby Neale",
            "photoUrl": "https://lh6.googleusercontent.com/-n6E9g9Qd1Os/AAAAAAAAAAI/AAAAAAAAGJY/OFLy4Jq1f7Q/s64/photo.jpg",
            "userId": "00297544628551669101"
          }
        },
        "colab": {
          "height": 34
        }
      },
      "source": [
        "tokens = tf.strings.unicode_split([u\"仅今年前\".encode('UTF-8')], 'UTF-8')\n",
        "print(tokens.to_list())"
      ],
      "execution_count": 0,
      "outputs": [
        {
          "output_type": "stream",
          "text": [
            "[['\\xe4\\xbb\\x85', '\\xe4\\xbb\\x8a', '\\xe5\\xb9\\xb4', '\\xe5\\x89\\x8d']]\n"
          ],
          "name": "stdout"
        }
      ]
    },
    {
      "cell_type": "markdown",
      "metadata": {
        "id": "0yGs1mWkeOD8",
        "colab_type": "text"
      },
      "source": [
        "### Offsets\n",
        "\n",
        "When tokenizing strings, it is often desired to know where in the original string the token originated from. For this reason, each tokenizer which implements `TokenizerWithOffsets` has a *tokenize_with_offsets* method that will return the byte offsets along with the tokens. The offset_starts lists the bytes in the original string each token starts at, and the offset_limits lists the bytes where each token ends at."
      ]
    },
    {
      "cell_type": "code",
      "metadata": {
        "id": "8yzUormbiQwz",
        "colab_type": "code",
        "outputId": "5cddea86-bd90-4ebd-b810-0cab82dc5149",
        "executionInfo": {
          "status": "ok",
          "timestamp": 1559150649531,
          "user_tz": 420,
          "elapsed": 1443,
          "user": {
            "displayName": "Robby Neale",
            "photoUrl": "https://lh6.googleusercontent.com/-n6E9g9Qd1Os/AAAAAAAAAAI/AAAAAAAAGJY/OFLy4Jq1f7Q/s64/photo.jpg",
            "userId": "00297544628551669101"
          }
        },
        "colab": {
          "height": 68
        }
      },
      "source": [
        "tokenizer = text.UnicodeScriptTokenizer()\n",
        "(tokens, offset_starts, offset_limits) = tokenizer.tokenize_with_offsets(['everything not saved will be lost.', u'Sad☹'.encode('UTF-8')])\n",
        "print(tokens.to_list())\n",
        "print(offset_starts.to_list())\n",
        "print(offset_limits.to_list())"
      ],
      "execution_count": 0,
      "outputs": [
        {
          "output_type": "stream",
          "text": [
            "[['everything', 'not', 'saved', 'will', 'be', 'lost', '.'], ['Sad', '\\xe2\\x98\\xb9']]\n",
            "[[0, 11, 15, 21, 26, 29, 33], [0, 3]]\n",
            "[[10, 14, 20, 25, 28, 33, 34], [3, 6]]\n"
          ],
          "name": "stdout"
        }
      ]
    },
    {
      "cell_type": "markdown",
      "metadata": {
        "id": "iO-tRdH72Vl9",
        "colab_type": "text"
      },
      "source": [
        "### TF.Data Example\n",
        "\n",
        "Tokenizers work as expected with the tf.data API. A simple example is provided below."
      ]
    },
    {
      "cell_type": "code",
      "metadata": {
        "id": "0MCqcHXg3gtp",
        "colab_type": "code",
        "outputId": "de91dcc6-e7ad-4b9c-84b0-e2cc21cae809",
        "executionInfo": {
          "status": "ok",
          "timestamp": 1559251661205,
          "user_tz": 420,
          "elapsed": 2572,
          "user": {
            "displayName": "Robby Neale",
            "photoUrl": "https://lh6.googleusercontent.com/-n6E9g9Qd1Os/AAAAAAAAAAI/AAAAAAAAGJY/OFLy4Jq1f7Q/s64/photo.jpg",
            "userId": "00297544628551669101"
          }
        },
        "colab": {
          "height": 50
        }
      },
      "source": [
        "docs = tf.data.Dataset.from_tensor_slices([['Never tell me the odds.'], [\"It's a trap!\"]])\n",
        "tokenizer = text.WhitespaceTokenizer()\n",
        "tokenized_docs = docs.map(lambda x: tokenizer.tokenize(x))\n",
        "iterator = tokenized_docs.make_one_shot_iterator()\n",
        "print(iterator.get_next().to_list())\n",
        "print(iterator.get_next().to_list())"
      ],
      "execution_count": 0,
      "outputs": [
        {
          "output_type": "stream",
          "text": [
            "[['Never', 'tell', 'me', 'the', 'odds.']]\n",
            "[[\"It's\", 'a', 'trap!']]\n"
          ],
          "name": "stdout"
        }
      ]
    },
    {
      "cell_type": "markdown",
      "metadata": {
        "id": "cAFvE0bDi5mq",
        "colab_type": "text"
      },
      "source": [
        "## Other Text Ops\n",
        "\n",
        "TF.Text packages other useful preprocessing ops. We will review a couple below.\n",
        "\n",
        "### Wordshape\n",
        "\n",
        "A common feature used in some natural language understanding models is to see if the text string has a certain property. For example, a sentence breaking model might contain features which check for word capitalization or if a punctuation character is at the end of a string.\n",
        "\n",
        "Wordshape defines a variety of useful regular expression based helper functions for matching various relevant patterns in your input text. Here are a few examples."
      ]
    },
    {
      "cell_type": "code",
      "metadata": {
        "id": "1HK5KOj5IJ5m",
        "colab_type": "code",
        "outputId": "96200843-4776-4719-db41-ad91fd87d2cf",
        "executionInfo": {
          "status": "ok",
          "timestamp": 1559150679337,
          "user_tz": 420,
          "elapsed": 391,
          "user": {
            "displayName": "Robby Neale",
            "photoUrl": "https://lh6.googleusercontent.com/-n6E9g9Qd1Os/AAAAAAAAAAI/AAAAAAAAGJY/OFLy4Jq1f7Q/s64/photo.jpg",
            "userId": "00297544628551669101"
          }
        },
        "colab": {
          "height": 85
        }
      },
      "source": [
        "tokenizer = text.WhitespaceTokenizer()\n",
        "tokens = tokenizer.tokenize(['Everything not saved will be lost.', u'Sad☹'.encode('UTF-8')])\n",
        "\n",
        "# Is capitalized?\n",
        "f1 = text.wordshape(tokens, text.WordShape.HAS_TITLE_CASE)\n",
        "# Are all letters uppercased?\n",
        "f2 = text.wordshape(tokens, text.WordShape.IS_UPPERCASE)\n",
        "# Does the token contain punctuation?\n",
        "f3 = text.wordshape(tokens, text.WordShape.HAS_SOME_PUNCT_OR_SYMBOL)\n",
        "# Is the token a number?\n",
        "f4 = text.wordshape(tokens, text.WordShape.IS_NUMERIC_VALUE)\n",
        "\n",
        "print(f1.to_list())\n",
        "print(f2.to_list())\n",
        "print(f3.to_list())\n",
        "print(f4.to_list())"
      ],
      "execution_count": 0,
      "outputs": [
        {
          "output_type": "stream",
          "text": [
            "[[True, False, False, False, False, False], [True]]\n",
            "[[False, False, False, False, False, False], [False]]\n",
            "[[False, False, False, False, False, True], [True]]\n",
            "[[False, False, False, False, False, False], [False]]\n"
          ],
          "name": "stdout"
        }
      ]
    },
    {
      "cell_type": "markdown",
      "metadata": {
        "id": "8zrnuXTc3ziR",
        "colab_type": "text"
      },
      "source": [
        "### N-grams & Sliding Window\n",
        "\n",
        "N-grams are sequential words given a sliding window size of *n*. When combining the tokens, there are three reduction mechanisms supported. For text, you would want to use `Reduction.STRING_JOIN` which appends the strings to each other. The default separator character is a space, but this can be changed with the string_separater argument.\n",
        "\n",
        "The other two reduction methods are most often used with numerical values, and these are `Reduction.SUM` and `Reduction.MEAN`."
      ]
    },
    {
      "cell_type": "code",
      "metadata": {
        "id": "czIf9HcoIquB",
        "colab_type": "code",
        "outputId": "8d57932d-acf7-46d3-84ca-2e3153777dc5",
        "executionInfo": {
          "status": "ok",
          "timestamp": 1559150707525,
          "user_tz": 420,
          "elapsed": 405,
          "user": {
            "displayName": "Robby Neale",
            "photoUrl": "https://lh6.googleusercontent.com/-n6E9g9Qd1Os/AAAAAAAAAAI/AAAAAAAAGJY/OFLy4Jq1f7Q/s64/photo.jpg",
            "userId": "00297544628551669101"
          }
        },
        "colab": {
          "height": 34
        }
      },
      "source": [
        "tokenizer = text.WhitespaceTokenizer()\n",
        "tokens = tokenizer.tokenize(['Everything not saved will be lost.', u'Sad☹'.encode('UTF-8')])\n",
        "\n",
        "# Ngrams, in this case bi-gram (n = 2)\n",
        "bigrams = text.ngrams(tokens, 2, reduction_type=text.Reduction.STRING_JOIN)\n",
        "\n",
        "print(bigrams.to_list())"
      ],
      "execution_count": 0,
      "outputs": [
        {
          "output_type": "stream",
          "text": [
            "[['Everything not', 'not saved', 'saved will', 'will be', 'be lost.'], []]\n"
          ],
          "name": "stdout"
        }
      ]
    }
  ]
}